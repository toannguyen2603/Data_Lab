{
 "cells": [
  {
   "cell_type": "code",
   "execution_count": 1,
   "id": "6cc0ab89",
   "metadata": {},
   "outputs": [],
   "source": [
    "from pandas import read_csv\n",
    "from matplotlib import pyplot\n",
    "import os\n",
    "import pandas as pd"
   ]
  },
  {
   "cell_type": "code",
   "execution_count": 35,
   "id": "8ded55b7",
   "metadata": {},
   "outputs": [
    {
     "data": {
      "text/html": [
       "<div>\n",
       "<style scoped>\n",
       "    .dataframe tbody tr th:only-of-type {\n",
       "        vertical-align: middle;\n",
       "    }\n",
       "\n",
       "    .dataframe tbody tr th {\n",
       "        vertical-align: top;\n",
       "    }\n",
       "\n",
       "    .dataframe thead th {\n",
       "        text-align: right;\n",
       "    }\n",
       "</style>\n",
       "<table border=\"1\" class=\"dataframe\">\n",
       "  <thead>\n",
       "    <tr style=\"text-align: right;\">\n",
       "      <th></th>\n",
       "      <th>LandAverageTemperature</th>\n",
       "    </tr>\n",
       "    <tr>\n",
       "      <th>dt</th>\n",
       "      <th></th>\n",
       "    </tr>\n",
       "  </thead>\n",
       "  <tbody>\n",
       "    <tr>\n",
       "      <th>2010-01-01</th>\n",
       "      <td>3.737</td>\n",
       "    </tr>\n",
       "    <tr>\n",
       "      <th>2010-02-01</th>\n",
       "      <td>4.399</td>\n",
       "    </tr>\n",
       "    <tr>\n",
       "      <th>2010-03-01</th>\n",
       "      <td>6.738</td>\n",
       "    </tr>\n",
       "    <tr>\n",
       "      <th>2010-04-01</th>\n",
       "      <td>9.671</td>\n",
       "    </tr>\n",
       "    <tr>\n",
       "      <th>2010-05-01</th>\n",
       "      <td>12.406</td>\n",
       "    </tr>\n",
       "  </tbody>\n",
       "</table>\n",
       "</div>"
      ],
      "text/plain": [
       "            LandAverageTemperature\n",
       "dt                                \n",
       "2010-01-01                   3.737\n",
       "2010-02-01                   4.399\n",
       "2010-03-01                   6.738\n",
       "2010-04-01                   9.671\n",
       "2010-05-01                  12.406"
      ]
     },
     "execution_count": 35,
     "metadata": {},
     "output_type": "execute_result"
    }
   ],
   "source": [
    "colnames=['dt','LandAverageTemperature'] \n",
    "climate = read_csv('climate_data.csv', index_col=0,parse_dates=True)\n",
    "climate.head()"
   ]
  },
  {
   "cell_type": "markdown",
   "id": "00471a44",
   "metadata": {},
   "source": [
    "# Using moving "
   ]
  },
  {
   "cell_type": "code",
   "execution_count": 26,
   "id": "c1c4df4d",
   "metadata": {},
   "outputs": [],
   "source": [
    "from statsmodels.tsa.arima_model import ARMA"
   ]
  },
  {
   "cell_type": "code",
   "execution_count": 27,
   "id": "aa492103",
   "metadata": {},
   "outputs": [
    {
     "name": "stdout",
     "output_type": "stream",
     "text": [
      "RUNNING THE L-BFGS-B CODE\n",
      "\n",
      "           * * *\n",
      "\n",
      "Machine precision = 2.220D-16\n",
      " N =            2     M =           12\n",
      "\n",
      "At X0         0 variables are exactly at the bounds\n",
      "\n",
      "At iterate    0    f=  2.29971D+00    |proj g|=  4.02810D-02\n",
      "\n",
      "At iterate    5    f=  2.27132D+00    |proj g|=  5.81357D-04\n",
      "\n",
      "At iterate   10    f=  2.27104D+00    |proj g|=  2.60680D-05\n",
      "\n",
      "At iterate   15    f=  2.27103D+00    |proj g|=  1.60316D-05\n",
      "\n",
      "At iterate   20    f=  2.27103D+00    |proj g|=  3.55271D-07\n",
      "\n",
      "At iterate   25    f=  2.27103D+00    |proj g|=  1.59872D-06\n",
      "\n",
      "At iterate   30    f=  2.27103D+00    |proj g|=  1.77636D-07\n",
      "\n",
      "           * * *\n",
      "\n",
      "Tit   = total number of iterations\n",
      "Tnf   = total number of function evaluations\n",
      "Tnint = total number of segments explored during Cauchy searches\n",
      "Skip  = number of BFGS updates skipped\n",
      "Nact  = number of active bounds at final generalized Cauchy point\n",
      "Projg = norm of the final projected gradient\n",
      "F     = final function value\n",
      "\n",
      "           * * *\n",
      "\n",
      "   N    Tit     Tnf  Tnint  Skip  Nact     Projg        F\n",
      "    2     30     44      1     0     0   1.776D-07   2.271D+00\n",
      "  F =   2.2710266682201010     \n",
      "\n",
      "CONVERGENCE: REL_REDUCTION_OF_F_<=_FACTR*EPSMCH             \n",
      "                                ARMA Model Results                                \n",
      "==================================================================================\n",
      "Dep. Variable:     LandAverageTemperature   No. Observations:                   60\n",
      "Model:                         ARMA(0, 1)   Log Likelihood                -136.262\n",
      "Method:                           css-mle   S.D. of innovations              2.266\n",
      "Date:                    Thu, 19 May 2022   AIC                            278.523\n",
      "Time:                            22:54:20   BIC                            284.806\n",
      "Sample:                        01-01-2010   HQIC                           280.981\n",
      "                             - 12-01-2014                                         \n",
      "================================================================================================\n",
      "                                   coef    std err          z      P>|z|      [0.025      0.975]\n",
      "------------------------------------------------------------------------------------------------\n",
      "const                            9.4867      0.580     16.350      0.000       8.349      10.624\n",
      "ma.L1.LandAverageTemperature     0.9999      0.053     19.039      0.000       0.897       1.103\n",
      "                                    Roots                                    \n",
      "=============================================================================\n",
      "                  Real          Imaginary           Modulus         Frequency\n",
      "-----------------------------------------------------------------------------\n",
      "MA.1           -1.0001           +0.0000j            1.0001            0.5000\n",
      "-----------------------------------------------------------------------------\n",
      "const                           9.486663\n",
      "ma.L1.LandAverageTemperature    0.999943\n",
      "dtype: float64\n"
     ]
    },
    {
     "name": "stderr",
     "output_type": "stream",
     "text": [
      "/opt/anaconda3/lib/python3.9/site-packages/statsmodels/tsa/arima_model.py:472: FutureWarning: \n",
      "statsmodels.tsa.arima_model.ARMA and statsmodels.tsa.arima_model.ARIMA have\n",
      "been deprecated in favor of statsmodels.tsa.arima.model.ARIMA (note the .\n",
      "between arima and model) and\n",
      "statsmodels.tsa.SARIMAX. These will be removed after the 0.12 release.\n",
      "\n",
      "statsmodels.tsa.arima.model.ARIMA makes use of the statespace framework and\n",
      "is both well tested and maintained.\n",
      "\n",
      "To silence this warning and continue using ARMA and ARIMA until they are\n",
      "removed, use:\n",
      "\n",
      "import warnings\n",
      "warnings.filterwarnings('ignore', 'statsmodels.tsa.arima_model.ARMA',\n",
      "                        FutureWarning)\n",
      "warnings.filterwarnings('ignore', 'statsmodels.tsa.arima_model.ARIMA',\n",
      "                        FutureWarning)\n",
      "\n",
      "  warnings.warn(ARIMA_DEPRECATION_WARN, FutureWarning)\n",
      "/opt/anaconda3/lib/python3.9/site-packages/statsmodels/tsa/base/tsa_model.py:524: ValueWarning: No frequency information was provided, so inferred frequency MS will be used.\n",
      "  warnings.warn('No frequency information was'\n",
      " This problem is unconstrained.\n"
     ]
    }
   ],
   "source": [
    "mod = ARMA(climate,order=(0,1))\n",
    "res = mod.fit()\n",
    "print(res.summary())\n",
    "print(res.params)\n",
    "\n",
    "# dta = sm.datasets.sunspots.load_pandas().data[['SUNACTIVITY']]\n",
    "# dta.index = pd.DatetimeIndex(start='2010', end='2015', freq='A')\n",
    "# res = sm.tsa.ARMA(dta, (3, 0)).fit()\n",
    "# fig, ax = plt.subplots()\n",
    "# ax = dta.loc['2010':].plot(ax=ax)\n",
    "# fig = res.plot_predict('2010', '2014', dynamic=True, ax=ax,plot_insample=False)\n",
    "# plt.show()"
   ]
  },
  {
   "cell_type": "code",
   "execution_count": 28,
   "id": "82e565c9",
   "metadata": {},
   "outputs": [
    {
     "name": "stderr",
     "output_type": "stream",
     "text": [
      "/opt/anaconda3/lib/python3.9/site-packages/statsmodels/tsa/base/tsa_model.py:132: FutureWarning: The 'freq' argument in Timestamp is deprecated and will be removed in a future version.\n",
      "  date_key = Timestamp(key, freq=base_index.freq)\n"
     ]
    },
    {
     "data": {
      "image/png": "[encoded data removed]",
      "text/plain": [
       "<Figure size 432x288 with 1 Axes>"
      ]
     },
     "metadata": {
      "needs_background": "light"
     },
     "output_type": "display_data"
    }
   ],
   "source": [
    "res.plot_predict(start='2010',end='2015')\n",
    "pyplot.show()"
   ]
  },
  {
   "cell_type": "markdown",
   "id": "ee3666b8",
   "metadata": {},
   "source": [
    "# Using linear regression"
   ]
  },
  {
   "cell_type": "code",
   "execution_count": 29,
   "id": "5b942e6d",
   "metadata": {},
   "outputs": [],
   "source": [
    "df_climate = pd.read_csv('climate_data.csv',parse_dates=True)"
   ]
  },
  {
   "cell_type": "code",
   "execution_count": 30,
   "id": "54512b72",
   "metadata": {},
   "outputs": [
    {
     "name": "stdout",
     "output_type": "stream",
     "text": [
      "<class 'str'>\n"
     ]
    }
   ],
   "source": [
    "print(type(df_climate['dt'][0]))"
   ]
  },
  {
   "cell_type": "code",
   "execution_count": 31,
   "id": "6e4b9293",
   "metadata": {},
   "outputs": [],
   "source": [
    "times = pd.DatetimeIndex(df_climate['dt'])"
   ]
  },
  {
   "cell_type": "code",
   "execution_count": 32,
   "id": "2f787f15",
   "metadata": {},
   "outputs": [],
   "source": [
    "grouped = df_climate.groupby([times.year]).mean()"
   ]
  },
  {
   "cell_type": "code",
   "execution_count": 33,
   "id": "bf3ab302",
   "metadata": {},
   "outputs": [],
   "source": [
    "from sklearn.linear_model import LinearRegression as LinReg\n",
    "import matplotlib.pyplot as plt\n",
    "import numpy as np"
   ]
  },
  {
   "cell_type": "code",
   "execution_count": 34,
   "id": "790210bc",
   "metadata": {},
   "outputs": [
    {
     "data": {
      "text/plain": [
       "array([9.70308333, 9.516     , 9.50733333, 9.6065    , 9.57066667])"
      ]
     },
     "execution_count": 34,
     "metadata": {},
     "output_type": "execute_result"
    }
   ],
   "source": [
    "x = grouped.index.values\n",
    "y = grouped['LandAverageTemperature'].values\n",
    "x\n",
    "y"
   ]
  },
  {
   "cell_type": "code",
   "execution_count": 13,
   "id": "88245031",
   "metadata": {},
   "outputs": [
    {
     "name": "stdout",
     "output_type": "stream",
     "text": [
      "Accuracy: 0.12006643996196398\n"
     ]
    }
   ],
   "source": [
    "reg = LinReg()\n",
    "reg.fit(x.reshape(-1,1), y)\n",
    "y_preds = reg.predict(x.reshape(-1,1))\n",
    "print(\"Accuracy: \" + str(reg.score(x.reshape(-1,1), y)))"
   ]
  },
  {
   "cell_type": "code",
   "execution_count": 14,
   "id": "d1dd6928",
   "metadata": {},
   "outputs": [
    {
     "data": {
      "text/plain": [
       "[<matplotlib.lines.Line2D at 0x7f882af1feb0>]"
      ]
     },
     "execution_count": 14,
     "metadata": {},
     "output_type": "execute_result"
    },
    {
     "data": {
      "image/png": "[encoded data removed]",
      "text/plain": [
       "<Figure size 1080x360 with 1 Axes>"
      ]
     },
     "metadata": {
      "needs_background": "light"
     },
     "output_type": "display_data"
    }
   ],
   "source": [
    "plt.figure(figsize = (15,5))\n",
    "plt.title(\"Linear Regression\")\n",
    "plt.scatter(x = x, y = y_preds)\n",
    "plt.scatter(x = x,y =y,c = \"b\")\n",
    "\n",
    "plt.plot(x, y, 'o')\n",
    "m, b = np.polyfit(x, y, 1)\n",
    "plt.plot(x, m*x + b)"
   ]
  },
  {
   "cell_type": "code",
   "execution_count": 15,
   "id": "4891074d",
   "metadata": {},
   "outputs": [],
   "source": [
    "pred_2015 = reg.predict(np.array([2015]).reshape(-1, 1))"
   ]
  },
  {
   "cell_type": "code",
   "execution_count": 16,
   "id": "c1fb997d",
   "metadata": {},
   "outputs": [
    {
     "data": {
      "text/plain": [
       "array([9.52841667])"
      ]
     },
     "execution_count": 16,
     "metadata": {},
     "output_type": "execute_result"
    }
   ],
   "source": [
    "pred_2015"
   ]
  },
  {
   "cell_type": "markdown",
   "id": "4a01493d",
   "metadata": {},
   "source": [
    "# Exercises 2"
   ]
  },
  {
   "cell_type": "code",
   "execution_count": 18,
   "id": "223639cd",
   "metadata": {},
   "outputs": [],
   "source": [
    "colnames=['dt','LandAverageTemperature'] "
   ]
  },
  {
   "cell_type": "code",
   "execution_count": 19,
   "id": "fde22345",
   "metadata": {},
   "outputs": [],
   "source": [
    "actual_climate = pd.read_csv('actual_climate.csv',names=colnames ,parse_dates=True)"
   ]
  },
  {
   "cell_type": "code",
   "execution_count": 20,
   "id": "10891849",
   "metadata": {},
   "outputs": [
    {
     "data": {
      "text/html": [
       "<div>\n",
       "<style scoped>\n",
       "    .dataframe tbody tr th:only-of-type {\n",
       "        vertical-align: middle;\n",
       "    }\n",
       "\n",
       "    .dataframe tbody tr th {\n",
       "        vertical-align: top;\n",
       "    }\n",
       "\n",
       "    .dataframe thead th {\n",
       "        text-align: right;\n",
       "    }\n",
       "</style>\n",
       "<table border=\"1\" class=\"dataframe\">\n",
       "  <thead>\n",
       "    <tr style=\"text-align: right;\">\n",
       "      <th></th>\n",
       "      <th>dt</th>\n",
       "      <th>LandAverageTemperature</th>\n",
       "    </tr>\n",
       "  </thead>\n",
       "  <tbody>\n",
       "    <tr>\n",
       "      <th>0</th>\n",
       "      <td>1/1/2015</td>\n",
       "      <td>3.881</td>\n",
       "    </tr>\n",
       "    <tr>\n",
       "      <th>1</th>\n",
       "      <td>2/1/2015</td>\n",
       "      <td>4.664</td>\n",
       "    </tr>\n",
       "    <tr>\n",
       "      <th>2</th>\n",
       "      <td>3/1/2015</td>\n",
       "      <td>6.740</td>\n",
       "    </tr>\n",
       "    <tr>\n",
       "      <th>3</th>\n",
       "      <td>4/1/2015</td>\n",
       "      <td>9.313</td>\n",
       "    </tr>\n",
       "    <tr>\n",
       "      <th>4</th>\n",
       "      <td>5/1/2015</td>\n",
       "      <td>12.312</td>\n",
       "    </tr>\n",
       "  </tbody>\n",
       "</table>\n",
       "</div>"
      ],
      "text/plain": [
       "         dt  LandAverageTemperature\n",
       "0  1/1/2015                   3.881\n",
       "1  2/1/2015                   4.664\n",
       "2  3/1/2015                   6.740\n",
       "3  4/1/2015                   9.313\n",
       "4  5/1/2015                  12.312"
      ]
     },
     "execution_count": 20,
     "metadata": {},
     "output_type": "execute_result"
    }
   ],
   "source": [
    "actual_climate.head()"
   ]
  },
  {
   "cell_type": "code",
   "execution_count": 21,
   "id": "e6bd3908",
   "metadata": {},
   "outputs": [],
   "source": [
    "actual_climate_concat = pd.concat([df_climate,actual_climate], ignore_index=True)"
   ]
  },
  {
   "cell_type": "code",
   "execution_count": 22,
   "id": "d83b3723",
   "metadata": {},
   "outputs": [],
   "source": [
    "import seaborn as sns"
   ]
  },
  {
   "cell_type": "code",
   "execution_count": 23,
   "id": "116ca637",
   "metadata": {},
   "outputs": [
    {
     "data": {
      "text/plain": [
       "<AxesSubplot:xlabel='dt', ylabel='LandAverageTemperature'>"
      ]
     },
     "execution_count": 23,
     "metadata": {},
     "output_type": "execute_result"
    },
    {
     "data": {
      "image/png": "[encoded data removed]",
      "text/plain": [
       "<Figure size 432x288 with 1 Axes>"
      ]
     },
     "metadata": {
      "needs_background": "light"
     },
     "output_type": "display_data"
    }
   ],
   "source": [
    "sns.pointplot(x='dt',y='LandAverageTemperature',data=actual_climate_concat,color='b')"
   ]
  },
  {
   "cell_type": "markdown",
   "id": "9f31d392",
   "metadata": {},
   "source": [
    "# Compare the accuracy of above"
   ]
  },
  {
   "cell_type": "code",
   "execution_count": 9,
   "id": "6b57b128",
   "metadata": {},
   "outputs": [
    {
     "data": {
      "text/plain": [
       "2010-01-01     9.486663\n",
       "2010-02-01     6.611832\n",
       "2010-03-01     8.011442\n",
       "2010-04-01     8.531582\n",
       "2010-05-01    10.398198\n",
       "                ...    \n",
       "2015-09-01     9.486663\n",
       "2015-10-01     9.486663\n",
       "2015-11-01     9.486663\n",
       "2015-12-01     9.486663\n",
       "2016-01-01     9.486663\n",
       "Freq: MS, Length: 73, dtype: float64"
      ]
     },
     "execution_count": 9,
     "metadata": {},
     "output_type": "execute_result"
    }
   ],
   "source": [
    "forecast = res.predict(start='2010', end='2016')\n",
    "forecast"
   ]
  },
  {
   "cell_type": "code",
   "execution_count": 25,
   "id": "a0ff64a2",
   "metadata": {},
   "outputs": [
    {
     "data": {
      "text/plain": [
       "[6.890196358877076,\n",
       " 9.486666923988425,\n",
       " 9.486666923988425,\n",
       " 9.486666923988425,\n",
       " 9.486666923988425,\n",
       " 9.486666923988425,\n",
       " 9.486666923988425,\n",
       " 9.486666923988425,\n",
       " 9.486666923988425,\n",
       " 9.486666923988425,\n",
       " 9.486666923988425,\n",
       " 9.486666923988425]"
      ]
     },
     "execution_count": 25,
     "metadata": {},
     "output_type": "execute_result"
    }
   ],
   "source": [
    "lst = forecast.tolist()[60:72]\n",
    "lst"
   ]
  },
  {
   "cell_type": "code",
   "execution_count": 26,
   "id": "5af0e3d9",
   "metadata": {},
   "outputs": [
    {
     "data": {
      "text/plain": [
       "9.528416666666665"
      ]
     },
     "execution_count": 26,
     "metadata": {},
     "output_type": "execute_result"
    }
   ],
   "source": [
    "linear_pred = pred_2015.tolist()[0]\n",
    "linear_pred"
   ]
  },
  {
   "cell_type": "code",
   "execution_count": 27,
   "id": "8a0e50ed",
   "metadata": {},
   "outputs": [
    {
     "name": "stdout",
     "output_type": "stream",
     "text": [
      "13.816904022534027\n"
     ]
    }
   ],
   "source": [
    "MSE_Moving_Average = (lst - actual_climate.LandAverageTemperature)**2\n",
    "print(MSE_Moving_Average.mean())"
   ]
  },
  {
   "cell_type": "code",
   "execution_count": 28,
   "id": "70b41f8f",
   "metadata": {},
   "outputs": [
    {
     "name": "stdout",
     "output_type": "stream",
     "text": [
      "0.09155667361111076\n"
     ]
    }
   ],
   "source": [
    "MSE_Linear = (linear_pred - actual_climate.LandAverageTemperature.mean())**2\n",
    "print(MSE_Linear)"
   ]
  }
 ],
 "metadata": {
  "kernelspec": {
   "display_name": "Python 3 (ipykernel)",
   "language": "python",
   "name": "python3"
  },
  "language_info": {
   "codemirror_mode": {
    "name": "ipython",
    "version": 3
   },
   "file_extension": ".py",
   "mimetype": "text/x-python",
   "name": "python",
   "nbconvert_exporter": "python",
   "pygments_lexer": "ipython3",
   "version": "3.9.7"
  }
 },
 "nbformat": 4,
 "nbformat_minor": 5
}
